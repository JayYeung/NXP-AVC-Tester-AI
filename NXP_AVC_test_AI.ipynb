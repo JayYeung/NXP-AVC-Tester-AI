{
  "nbformat": 4,
  "nbformat_minor": 0,
  "metadata": {
    "colab": {
      "provenance": []
    },
    "kernelspec": {
      "name": "python3",
      "display_name": "Python 3"
    },
    "language_info": {
      "name": "python"
    }
  },
  "cells": [
    {
      "cell_type": "markdown",
      "source": [
        "# Generate example AVC "
      ],
      "metadata": {
        "id": "bC0eLinw5S8v"
      }
    },
    {
      "cell_type": "code",
      "execution_count": null,
      "metadata": {
        "id": "RdamnXwOOG9M",
        "colab": {
          "base_uri": "https://localhost:8080/",
          "height": 424
        },
        "outputId": "3dce0fb8-377a-4dae-a581-cc9e682f4f9d"
      },
      "outputs": [
        {
          "output_type": "execute_result",
          "data": {
            "text/plain": [
              "     r0   r1   r2   r3   r4   r5   r6   r7   r8   r9  score\n",
              "0   397  789  604  235  265  563  214  975  553  526     15\n",
              "1   274  147  892  500   26  233  840  814  912  388     58\n",
              "2   165  624  883  351  922  599  970  730  630  299     68\n",
              "3   386  606  965  763   47  649  943  872  238  299     66\n",
              "4   431  114  179  495  482  579  490  637  740  918     34\n",
              "..  ...  ...  ...  ...  ...  ...  ...  ...  ...  ...    ...\n",
              "95   97  228  692  828  338  337  998  867   32  525     70\n",
              "96   96  979  902  783  247  462  466  428  616  748     32\n",
              "97  127  639  768  934  422  520  358   55  737   77     25\n",
              "98  897  108  747  500  177  471  273  268  724  829     19\n",
              "99  647  350  987  700  808  609  562  161  470  881     39\n",
              "\n",
              "[100 rows x 11 columns]"
            ],
            "text/html": [
              "\n",
              "  <div id=\"df-d1955307-ffbf-404a-890e-b2dd5f3accc4\">\n",
              "    <div class=\"colab-df-container\">\n",
              "      <div>\n",
              "<style scoped>\n",
              "    .dataframe tbody tr th:only-of-type {\n",
              "        vertical-align: middle;\n",
              "    }\n",
              "\n",
              "    .dataframe tbody tr th {\n",
              "        vertical-align: top;\n",
              "    }\n",
              "\n",
              "    .dataframe thead th {\n",
              "        text-align: right;\n",
              "    }\n",
              "</style>\n",
              "<table border=\"1\" class=\"dataframe\">\n",
              "  <thead>\n",
              "    <tr style=\"text-align: right;\">\n",
              "      <th></th>\n",
              "      <th>r0</th>\n",
              "      <th>r1</th>\n",
              "      <th>r2</th>\n",
              "      <th>r3</th>\n",
              "      <th>r4</th>\n",
              "      <th>r5</th>\n",
              "      <th>r6</th>\n",
              "      <th>r7</th>\n",
              "      <th>r8</th>\n",
              "      <th>r9</th>\n",
              "      <th>score</th>\n",
              "    </tr>\n",
              "  </thead>\n",
              "  <tbody>\n",
              "    <tr>\n",
              "      <th>0</th>\n",
              "      <td>397</td>\n",
              "      <td>789</td>\n",
              "      <td>604</td>\n",
              "      <td>235</td>\n",
              "      <td>265</td>\n",
              "      <td>563</td>\n",
              "      <td>214</td>\n",
              "      <td>975</td>\n",
              "      <td>553</td>\n",
              "      <td>526</td>\n",
              "      <td>15</td>\n",
              "    </tr>\n",
              "    <tr>\n",
              "      <th>1</th>\n",
              "      <td>274</td>\n",
              "      <td>147</td>\n",
              "      <td>892</td>\n",
              "      <td>500</td>\n",
              "      <td>26</td>\n",
              "      <td>233</td>\n",
              "      <td>840</td>\n",
              "      <td>814</td>\n",
              "      <td>912</td>\n",
              "      <td>388</td>\n",
              "      <td>58</td>\n",
              "    </tr>\n",
              "    <tr>\n",
              "      <th>2</th>\n",
              "      <td>165</td>\n",
              "      <td>624</td>\n",
              "      <td>883</td>\n",
              "      <td>351</td>\n",
              "      <td>922</td>\n",
              "      <td>599</td>\n",
              "      <td>970</td>\n",
              "      <td>730</td>\n",
              "      <td>630</td>\n",
              "      <td>299</td>\n",
              "      <td>68</td>\n",
              "    </tr>\n",
              "    <tr>\n",
              "      <th>3</th>\n",
              "      <td>386</td>\n",
              "      <td>606</td>\n",
              "      <td>965</td>\n",
              "      <td>763</td>\n",
              "      <td>47</td>\n",
              "      <td>649</td>\n",
              "      <td>943</td>\n",
              "      <td>872</td>\n",
              "      <td>238</td>\n",
              "      <td>299</td>\n",
              "      <td>66</td>\n",
              "    </tr>\n",
              "    <tr>\n",
              "      <th>4</th>\n",
              "      <td>431</td>\n",
              "      <td>114</td>\n",
              "      <td>179</td>\n",
              "      <td>495</td>\n",
              "      <td>482</td>\n",
              "      <td>579</td>\n",
              "      <td>490</td>\n",
              "      <td>637</td>\n",
              "      <td>740</td>\n",
              "      <td>918</td>\n",
              "      <td>34</td>\n",
              "    </tr>\n",
              "    <tr>\n",
              "      <th>...</th>\n",
              "      <td>...</td>\n",
              "      <td>...</td>\n",
              "      <td>...</td>\n",
              "      <td>...</td>\n",
              "      <td>...</td>\n",
              "      <td>...</td>\n",
              "      <td>...</td>\n",
              "      <td>...</td>\n",
              "      <td>...</td>\n",
              "      <td>...</td>\n",
              "      <td>...</td>\n",
              "    </tr>\n",
              "    <tr>\n",
              "      <th>95</th>\n",
              "      <td>97</td>\n",
              "      <td>228</td>\n",
              "      <td>692</td>\n",
              "      <td>828</td>\n",
              "      <td>338</td>\n",
              "      <td>337</td>\n",
              "      <td>998</td>\n",
              "      <td>867</td>\n",
              "      <td>32</td>\n",
              "      <td>525</td>\n",
              "      <td>70</td>\n",
              "    </tr>\n",
              "    <tr>\n",
              "      <th>96</th>\n",
              "      <td>96</td>\n",
              "      <td>979</td>\n",
              "      <td>902</td>\n",
              "      <td>783</td>\n",
              "      <td>247</td>\n",
              "      <td>462</td>\n",
              "      <td>466</td>\n",
              "      <td>428</td>\n",
              "      <td>616</td>\n",
              "      <td>748</td>\n",
              "      <td>32</td>\n",
              "    </tr>\n",
              "    <tr>\n",
              "      <th>97</th>\n",
              "      <td>127</td>\n",
              "      <td>639</td>\n",
              "      <td>768</td>\n",
              "      <td>934</td>\n",
              "      <td>422</td>\n",
              "      <td>520</td>\n",
              "      <td>358</td>\n",
              "      <td>55</td>\n",
              "      <td>737</td>\n",
              "      <td>77</td>\n",
              "      <td>25</td>\n",
              "    </tr>\n",
              "    <tr>\n",
              "      <th>98</th>\n",
              "      <td>897</td>\n",
              "      <td>108</td>\n",
              "      <td>747</td>\n",
              "      <td>500</td>\n",
              "      <td>177</td>\n",
              "      <td>471</td>\n",
              "      <td>273</td>\n",
              "      <td>268</td>\n",
              "      <td>724</td>\n",
              "      <td>829</td>\n",
              "      <td>19</td>\n",
              "    </tr>\n",
              "    <tr>\n",
              "      <th>99</th>\n",
              "      <td>647</td>\n",
              "      <td>350</td>\n",
              "      <td>987</td>\n",
              "      <td>700</td>\n",
              "      <td>808</td>\n",
              "      <td>609</td>\n",
              "      <td>562</td>\n",
              "      <td>161</td>\n",
              "      <td>470</td>\n",
              "      <td>881</td>\n",
              "      <td>39</td>\n",
              "    </tr>\n",
              "  </tbody>\n",
              "</table>\n",
              "<p>100 rows × 11 columns</p>\n",
              "</div>\n",
              "      <button class=\"colab-df-convert\" onclick=\"convertToInteractive('df-d1955307-ffbf-404a-890e-b2dd5f3accc4')\"\n",
              "              title=\"Convert this dataframe to an interactive table.\"\n",
              "              style=\"display:none;\">\n",
              "        \n",
              "  <svg xmlns=\"http://www.w3.org/2000/svg\" height=\"24px\"viewBox=\"0 0 24 24\"\n",
              "       width=\"24px\">\n",
              "    <path d=\"M0 0h24v24H0V0z\" fill=\"none\"/>\n",
              "    <path d=\"M18.56 5.44l.94 2.06.94-2.06 2.06-.94-2.06-.94-.94-2.06-.94 2.06-2.06.94zm-11 1L8.5 8.5l.94-2.06 2.06-.94-2.06-.94L8.5 2.5l-.94 2.06-2.06.94zm10 10l.94 2.06.94-2.06 2.06-.94-2.06-.94-.94-2.06-.94 2.06-2.06.94z\"/><path d=\"M17.41 7.96l-1.37-1.37c-.4-.4-.92-.59-1.43-.59-.52 0-1.04.2-1.43.59L10.3 9.45l-7.72 7.72c-.78.78-.78 2.05 0 2.83L4 21.41c.39.39.9.59 1.41.59.51 0 1.02-.2 1.41-.59l7.78-7.78 2.81-2.81c.8-.78.8-2.07 0-2.86zM5.41 20L4 18.59l7.72-7.72 1.47 1.35L5.41 20z\"/>\n",
              "  </svg>\n",
              "      </button>\n",
              "      \n",
              "  <style>\n",
              "    .colab-df-container {\n",
              "      display:flex;\n",
              "      flex-wrap:wrap;\n",
              "      gap: 12px;\n",
              "    }\n",
              "\n",
              "    .colab-df-convert {\n",
              "      background-color: #E8F0FE;\n",
              "      border: none;\n",
              "      border-radius: 50%;\n",
              "      cursor: pointer;\n",
              "      display: none;\n",
              "      fill: #1967D2;\n",
              "      height: 32px;\n",
              "      padding: 0 0 0 0;\n",
              "      width: 32px;\n",
              "    }\n",
              "\n",
              "    .colab-df-convert:hover {\n",
              "      background-color: #E2EBFA;\n",
              "      box-shadow: 0px 1px 2px rgba(60, 64, 67, 0.3), 0px 1px 3px 1px rgba(60, 64, 67, 0.15);\n",
              "      fill: #174EA6;\n",
              "    }\n",
              "\n",
              "    [theme=dark] .colab-df-convert {\n",
              "      background-color: #3B4455;\n",
              "      fill: #D2E3FC;\n",
              "    }\n",
              "\n",
              "    [theme=dark] .colab-df-convert:hover {\n",
              "      background-color: #434B5C;\n",
              "      box-shadow: 0px 1px 3px 1px rgba(0, 0, 0, 0.15);\n",
              "      filter: drop-shadow(0px 1px 2px rgba(0, 0, 0, 0.3));\n",
              "      fill: #FFFFFF;\n",
              "    }\n",
              "  </style>\n",
              "\n",
              "      <script>\n",
              "        const buttonEl =\n",
              "          document.querySelector('#df-d1955307-ffbf-404a-890e-b2dd5f3accc4 button.colab-df-convert');\n",
              "        buttonEl.style.display =\n",
              "          google.colab.kernel.accessAllowed ? 'block' : 'none';\n",
              "\n",
              "        async function convertToInteractive(key) {\n",
              "          const element = document.querySelector('#df-d1955307-ffbf-404a-890e-b2dd5f3accc4');\n",
              "          const dataTable =\n",
              "            await google.colab.kernel.invokeFunction('convertToInteractive',\n",
              "                                                     [key], {});\n",
              "          if (!dataTable) return;\n",
              "\n",
              "          const docLinkHtml = 'Like what you see? Visit the ' +\n",
              "            '<a target=\"_blank\" href=https://colab.research.google.com/notebooks/data_table.ipynb>data table notebook</a>'\n",
              "            + ' to learn more about interactive tables.';\n",
              "          element.innerHTML = '';\n",
              "          dataTable['output_type'] = 'display_data';\n",
              "          await google.colab.output.renderOutput(dataTable, element);\n",
              "          const docLink = document.createElement('div');\n",
              "          docLink.innerHTML = docLinkHtml;\n",
              "          element.appendChild(docLink);\n",
              "        }\n",
              "      </script>\n",
              "    </div>\n",
              "  </div>\n",
              "  "
            ]
          },
          "metadata": {},
          "execution_count": 171
        }
      ],
      "source": [
        "import pandas as pd\n",
        "import numpy as np\n",
        "import matplotlib.pyplot as plt\n",
        "import random\n",
        "import seaborn as sns\n",
        "\n",
        "data=[]\n",
        "score=[]\n",
        "n=100 #number of examples\n",
        "\n",
        "for i in range(n): #create n examples, \n",
        "  arr=[]\n",
        "  for j in range(10): #each is a list of 10 numbers (representing the numbers after R___)\n",
        "    arr.append(random.randint(0, 1000))\n",
        "  score.append(arr[6]*7/100) #this makes everything based on 7th term\n",
        "  #score.append(5*arr[6]+2*arr[3]*arr[3]+4*arr[5]*arr[5]+7/arr[2]+arr[1]) #random polynomial \n",
        "  data.append(arr)\n",
        "\n",
        "#scale scores so that they are between 0 and 70 (linearly)\n",
        "score[:] = [int(i / max(score) * 70) for i in score]\n",
        "for i in range(n):\n",
        "  data[i].append(score[i])\n",
        "\n",
        "df = pd.DataFrame(data, columns=['r0', 'r1', 'r2', 'r3', 'r4', 'r5', 'r6', 'r7', 'r8', 'r9', 'score'])\n",
        "df"
      ]
    },
    {
      "cell_type": "markdown",
      "source": [
        "# Calculate Leverage for each Variable"
      ],
      "metadata": {
        "id": "IP3TZ1P25eS0"
      }
    },
    {
      "cell_type": "code",
      "source": [
        "plt.figure(figsize=(12,10))\n",
        "cor = df.corr()\n",
        "sns.heatmap(cor, annot=True, cmap=plt.cm.Reds)\n",
        "plt.show()"
      ],
      "metadata": {
        "id": "FNSegJCYicXa",
        "colab": {
          "base_uri": "https://localhost:8080/",
          "height": 595
        },
        "outputId": "b49fef66-405f-4c34-d7ec-805b89d1d44b"
      },
      "execution_count": null,
      "outputs": [
        {
          "output_type": "display_data",
          "data": {
            "text/plain": [
              "<Figure size 864x720 with 2 Axes>"
            ],
            "image/png": "[encoded data removed]"
          },
          "metadata": {
            "needs_background": "light"
          }
        }
      ]
    },
    {
      "cell_type": "code",
      "source": [
        "#Correlation with output variable\n",
        "cor_target = abs(cor[\"score\"])\n",
        "\n",
        "#Selecting highly correlated features\n",
        "relevant_features = cor_target[cor_target>0.2]\n",
        "relevant_features"
      ],
      "metadata": {
        "id": "ewtF8eIri7Ic",
        "colab": {
          "base_uri": "https://localhost:8080/"
        },
        "outputId": "ccb8920a-17a2-49ad-c134-71f27c391f90"
      },
      "execution_count": null,
      "outputs": [
        {
          "output_type": "execute_result",
          "data": {
            "text/plain": [
              "r1       0.211272\n",
              "r6       0.999897\n",
              "score    1.000000\n",
              "Name: score, dtype: float64"
            ]
          },
          "metadata": {},
          "execution_count": 173
        }
      ]
    },
    {
      "cell_type": "markdown",
      "source": [
        "# Split data and use AI models"
      ],
      "metadata": {
        "id": "M8fjuHbU5mC3"
      }
    },
    {
      "cell_type": "code",
      "source": [
        "X=df.iloc[:, : 10]\n",
        "y=df['score']\n",
        "#print(X)\n",
        "#print(y)"
      ],
      "metadata": {
        "id": "UpI5tp4XQVj9"
      },
      "execution_count": null,
      "outputs": []
    },
    {
      "cell_type": "code",
      "source": [
        "# split train and test data\n",
        "from sklearn.model_selection import train_test_split\n",
        "X_train, X_test, y_train, y_test = train_test_split(X, y)\n",
        "print(len(X), len(y))\n",
        "#print(X_train)\n",
        "#print(X_test)"
      ],
      "metadata": {
        "colab": {
          "base_uri": "https://localhost:8080/"
        },
        "id": "7aY7iNnMPmhc",
        "outputId": "a78a23db-93bc-4952-973f-28be39fe7052"
      },
      "execution_count": null,
      "outputs": [
        {
          "output_type": "stream",
          "name": "stdout",
          "text": [
            "100 100\n"
          ]
        }
      ]
    },
    {
      "cell_type": "code",
      "source": [
        "#linear regression\n",
        "from sklearn.linear_model import LinearRegression\n",
        "linearRegr = LinearRegression()\n",
        "linearRegr.fit(X_train, y_train)\n",
        "predictions = linearRegr.predict(X_test)\n",
        "score = linearRegr.score(X_test, y_test)\n",
        "\n",
        "trainPredictions = linearRegr.predict(X_train)\n",
        "trainScore = linearRegr.score(X_train, y_train)\n",
        "\n",
        "print(score, trainScore)"
      ],
      "metadata": {
        "colab": {
          "base_uri": "https://localhost:8080/"
        },
        "id": "Kz5QQgntQu84",
        "outputId": "15b61f10-92f6-46fd-a1cf-9148e4ef3540"
      },
      "execution_count": null,
      "outputs": [
        {
          "output_type": "stream",
          "name": "stdout",
          "text": [
            "0.9997996912627887 0.9998029902829803\n"
          ]
        }
      ]
    },
    {
      "cell_type": "code",
      "source": [
        "#neural net sk learn, search for best alpha for given dataset\n",
        "from sklearn.neural_network import MLPClassifier\n",
        "\n",
        "bestScore=-1 \n",
        "bestAlpha=3 #number for anti overfitting\n",
        "\n",
        "'''for i  in np.arange(0, 1e-4, 1e-5): \n",
        "  mlp= MLPClassifier(alpha=i, hidden_layer_sizes=(10,), random_state=1, max_iter=5000)\n",
        "  mlp.fit(X_train, y_train)\n",
        "\n",
        "  predictions = mlp.predict(X_test)\n",
        "  score = mlp.score(X_test, y_test)\n",
        "\n",
        "  trainPredictions = mlp.predict(X_train)\n",
        "  trainScore = mlp.score(X_train, y_train) \n",
        "\n",
        "  if(score>bestScore): \n",
        "    bestAlpha=i \n",
        "    bestScore=score '''\n",
        "mlp= MLPClassifier(alpha=bestAlpha, hidden_layer_sizes=(10,), random_state=1, max_iter=30000)\n",
        "mlp.fit(X_train, y_train)\n",
        "\n",
        "predictions = mlp.predict(X_test)\n",
        "score = mlp.score(X_test, y_test)\n",
        "\n",
        "trainPredictions = mlp.predict(X_train)\n",
        "trainScore = mlp.score(X_train, y_train)   \n",
        "print(bestAlpha, score, trainScore)"
      ],
      "metadata": {
        "colab": {
          "base_uri": "https://localhost:8080/"
        },
        "id": "9y1HogQelhbo",
        "outputId": "2ac7d80a-c131-49f5-dddc-da584fb151e3"
      },
      "execution_count": null,
      "outputs": [
        {
          "output_type": "stream",
          "name": "stdout",
          "text": [
            "3 0.0 0.05333333333333334\n"
          ]
        }
      ]
    }
  ]
}